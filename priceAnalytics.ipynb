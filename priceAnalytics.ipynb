{
 "cells": [
  {
   "cell_type": "code",
   "execution_count": 2,
   "id": "470a5514-fad8-4dc1-b40b-19b47239ddea",
   "metadata": {},
   "outputs": [],
   "source": [
    "import requests\n",
    "from bs4 import BeautifulSoup\n",
    "import re\n",
    "import numpy as np\n",
    "import pandas as pd"
   ]
  },
  {
   "cell_type": "code",
   "execution_count": 3,
   "id": "60620cf1-b487-4710-89b8-544054f3a6cc",
   "metadata": {},
   "outputs": [
    {
     "data": {
      "text/plain": [
       "[<div class=\"jsx-3641245301 pdp-container\"><section class=\"jsx-3641245301 pdp-image-section\"><div class=\"jsx-2128732992 jsx-55879769 imageGallery fa--image-gallery\"><div class=\"jsx-2134917503 headline-wrapper fa--image-gallery-item__desktop\"><div class=\"jsx-3040205320 hidden\"><img alt=\"SENSI DACQUA - One Piece Lara Blanco 30,5 Dual\" class=\"jsx-2487856160\" id=\"testId-pod-image-SodimacPeru_8773904_01\" src=\"https://sodimac.scene7.com/is/image/SodimacPeru/8773904_01?wid=800&amp;hei=800&amp;qlt=70\" srcset=\"\"/></div><button class=\"jsx-2035923286 headline-control left transparent\" id=\"testId-ImageGalleryControlButton-left\" type=\"button\"><i class=\"jsx-2035923286 icon csicon-arrow_left\"></i></button><button class=\"jsx-2035923286 headline-control right transparent\" id=\"testId-ImageGalleryControlButton-right\" type=\"button\"><i class=\"jsx-2035923286 icon i-gallery csicon-arrow_right\"></i></button><img alt=\"SENSI DACQUA - One Piece Lara Blanco 30,5 Dual\" class=\"jsx-2487856160\" id=\"testId-pod-image-SodimacPeru_8773904_01\" src=\"https://sodimac.scene7.com/is/image/SodimacPeru/8773904_01?wid=800&amp;hei=800&amp;qlt=70\" srcset=\"\"/></div><div class=\"jsx-1032896682 image-carousel desktop fa--image-gallery-carousel__desktop rebranded\"><div class=\"jsx-1032896682 carousel\"></div></div></div><div class=\"jsx-3048247234\"><div class=\"jsx-3048247234 return-policy-container\"></div><div class=\"jsx-3048247234 return-policy-custom-container\"><div class=\"jsx-3048247234 returnIcon rebranded\"><i class=\"jsx-3048247234 csicon-return-icon\"></i></div><div class=\"jsx-3048247234 return-policy-text\"><span class=\"copy3 senary jsx-2889528833 normal\" id=\"\"><span class=\"jsx-3048247234 header\">Devolver es fácil y gratis</span></span><span class=\"copy3 senary jsx-2889528833 normal\" id=\"\"><button class=\"jsx-3048247234 open-modal-btn\" id=\"testId-more-information-btn\" type=\"button\"><span class=\"jsx-3048247234\">Conoce nuestra Satisfacción garantizada</span><i class=\"jsx-3048247234 csicon-right\"></i></button></span></div></div></div></section><section class=\"jsx-3641245301 pdp-detail-section\"><div class=\"jsx-468546439 basic-details-Desktop rebranded\"><div class=\"jsx-468546439 corner-details\"><div class=\"jsx-1874573512 product-brand fa--brand false\" data-brand=\"SENSI DACQUA\"><a class=\"jsx-1874573512 product-brand-link\" href=\"https://www.falabella.com.pe/falabella-pe/brand/SENSI%20DACQUA\" id=\"pdp-product-brand-link\">SENSI DACQUA</a></div><div class=\"jsx-468546439 variant-seller-ids\"><div class=\"jsx-3410277752 variant-id fa--variant-id\" data-id=\"113090649\"> <span class=\"jsx-3410277752\">Código: 113090649</span></div><div class=\"jsx-468546439 vertical-separator\"></div><div class=\"jsx-3410277752 variant-id fa--variant-id\" data-id=\"8773904\"> <span class=\"jsx-3410277752\">Cód. tienda: 8773904</span></div></div></div><div class=\"jsx-468546439 corner-details\"><h1 class=\"jsx-1442607798\"><div class=\"jsx-1442607798 product-name fa--product-name false\" data-name=\"One Piece Lara Blanco 30,5 Dual\">One Piece Lara Blanco 30,5 Dual<!-- --> </div></h1><div class=\"doc-click-overlay\"><div class=\"jsx-2095146625 shareContainer fa--share-icon\" id=\"testId-ShareButton\"><button class=\"jsx-2095146625\" type=\"button\"><div class=\"jsx-11870025 product-share-icon rebranded\"><i class=\"jsx-11870025 csicon-share\"><span class=\"jsx-11870025 sr-only\">share icon</span></i></div></button></div></div></div><div class=\"jsx-468546439 reviews\"><div class=\"jsx-468546439 reviews-column\"><div></div></div><div class=\"jsx-3167696911 jsx-2258060558 pod-badges pod-badges-PDP sticker-group\"><span class=\"jsx-3167696911 jsx-2258060558 copy8 primary jsx-2889528833 bold pod-badges-item-PDP pod-badges-item\" id=\"testId-Pod-badges-BLACK WEEK\" style=\"background-color:#000000;color:#ffffff\">BLACK WEEK</span></div></div></div><hr class=\"jsx-3641245301 divider-line\"/><div><div class=\"jsx-560488783 product-specifications\" data-availability=\"false\" data-backend-category=\"0313010104\" data-published=\"true\" data-variations=\"1\"><div class=\"jsx-560488783 product-specifications-column fa--product-specifications-column__desktop\"><div class=\"jsx-2091709105 sellerText rebranded false\"><div class=\"jsx-2091709105 sellerInfoContainer fa--seller-info__desktop\"><span class=\"jsx-2091709105\">Vendido por<!-- --> </span><span class=\"jsx-2091709105 sodimacIcon\"></span><a class=\"jsx-2091709105 link\" href=\"https://sodimac.falabella.com.pe/sodimac-pe\" id=\"testId-SellerInfo-sellerName\"><span class=\"jsx-2091709105 underline\">sodimac</span></a><div class=\"jsx-435942857 tooltipParent default\"><i class=\"jsx-2091709105 csicon-alert alertIcon\"><span class=\"jsx-2091709105 sr-only\">Seller Info</span></i><div class=\"jsx-435942857 tooltipContainer bottom-middle\"><div class=\"jsx-435942857 caret bottom-middle\"></div><div class=\"jsx-435942857 tooltipContent\"><p class=\"jsx-1685962251 tooltipText medium\"><div class=\"jsx-2091709105\" id=\"seller-tooltip-text\">Producto publicado directamente por <b style=\"font-weight: bold; text-transform: capitalize;\">sodimac</b> con el respaldo de falabella.com.</div> </p></div></div></div></div></div><div class=\"jsx-2481608757 availability fa--availability-info__desktop\"><div class=\"jsx-2481608757 availability-container\"><div class=\"jsx-2481608757 availability-item title\"><span class=\"jsx-2481608757\">Tipo de entrega</span></div><div class=\"jsx-2481608757 availability-item false rebranded\"><div class=\"jsx-2481608757 icon deliveryNotAvailable\"></div><div class=\"jsx-2481608757 content outofstock\"><div class=\"jsx-2481608757 content-main outofstock\"><span class=\"jsx-2481608757\">No disponible para despacho a domicilio</span></div></div></div><div class=\"jsx-2481608757 availability-item false rebranded\"><div class=\"jsx-2481608757 icon pickupInStoreAvailable\"></div><div class=\"jsx-2481608757 content false\"><div class=\"jsx-2481608757 content-main\"><span class=\"jsx-2481608757 bold\">Retiro en tienda</span></div><div class=\"jsx-2481608757 content-sub\"><div class=\"jsx-2481608757\" id=\"testId-Availability-Desktop-ModalOpen-PickupInStore\" role=\"button\" tabindex=\"0\"><span class=\"jsx-2481608757 underline\">Selecciona una tienda</span><span class=\"jsx-2481608757 caret\"><i class=\"jsx-2481608757 csicon-right\"><span class=\"jsx-2481608757 sr-only\">Selecciona una tienda</span></i></span></div></div></div></div></div></div><div class=\"jsx-25410479 availability-item rebranded false false\" id=\"testId-open-store-availability-modal-mobile\" role=\"button\" tabindex=\"-1\"><div class=\"jsx-25410479 icon see-stores\"></div><div class=\"jsx-25410479 content\"><div class=\"jsx-25410479 content-main\"><span class=\"jsx-25410479 bold\">Stock en tienda</span></div><div class=\"jsx-25410479 content-sub\" id=\"testId-open-store-availability-modal-desktop\" role=\"button\" tabindex=\"-1\"><div class=\"jsx-25410479\"><span class=\"jsx-25410479 underline\">Revisar</span><span class=\"jsx-25410479 caret\"><i class=\"jsx-25410479 csicon-right\"><span class=\"jsx-25410479 sr-only\"></span></i></span></div></div></div></div></div><div class=\"jsx-560488783 product-specifications-column fa--product-specifications-column__desktop\"><div class=\"jsx-560488783 price withMultipurposeBadge\"><div class=\"jsx-2797633547 prices prices-4_GRID\" id=\"testId-pod-prices-113090635\"><ol class=\"jsx-2797633547 ol-4_GRID pdp-prices fa--prices li-separation\"><li class=\"jsx-2797633547 prices-0\" data-cmr-price=\"289.90\"><div class=\"jsx-2797633547 cmr-icon-container\" data-variant=\"PDP_MAIN\"><i class=\"jsx-2797633547 unica-cmr-icon pdp-icon big-icon\"></i><span class=\"copy12 primary high jsx-2889528833 normal line-height-29\" id=\"\">S/  289.90  </span></div></li><li class=\"jsx-2797633547 prices-1\" data-internet-price=\"319.90\"><div class=\"jsx-2797633547 cmr-icon-container\" data-variant=\"PDP_MAIN\"><span class=\"copy12 primary medium jsx-2889528833 normal line-height-29\" id=\"\">S/  319.90  </span></div></li></ol></div><div class=\"jsx-3557877837 cmr-points fa--cmr-points mt-8px\" id=\"cmr-points\">Acumula hasta 289 CMR Puntos</div></div><div class=\"jsx-560488783 multipurpose-badge\"><div class=\"jsx-33750958 mtp-pod-badges mtp-pod-badges-\"><span class=\"jsx-33750958 copy5 primary jsx-2889528833 normal pod-badges-item inPdp\" id=\"testId-Pod-badges-6 cuotas sin interés CMR\" style=\"background-color:#3FAE2A;color:#FFFFFF\">6 cuotas sin interés CMR</span></div></div><div class=\"jsx-560488783 addToCart-container fa--add-to-cart__desktop\"><div class=\"jsx-890112272 add-quantity-container\"><div class=\"jsx-890112272 counter\"><div class=\"jsx-666298700 product-count primary product-count-desktop\"><button class=\"jsx-1749720005 decrement btn-primary decrement-desktop\" disabled=\"\" type=\"button\"><span class=\"jsx-1749720005\">−</span></button><div class=\"jsx-1075932685 product-count-value value-primary product-count-value-desktop\"><input autocomplete=\"off\" class=\"jsx-1075932685 product-count-value-input\" id=\"testId-stepper-input\" max=\"999\" min=\"1\" step=\"1\" type=\"text\" value=\"1\"/></div><button class=\"jsx-2625916427 increment btn-primary increment-desktop\" type=\"button\"><span class=\"jsx-2625916427\">+</span></button></div></div><div class=\"jsx-890112272 max-units-text\"><p class=\"jsx-890112272\">Máximo 999 unidades.</p></div></div><div id=\"buttonForCustomers\"><button class=\"jsx-2166277967 button button-mkp-primary button-mkp-primary-xtra-large\" type=\"button\">Agregar al Carro</button></div><div class=\"jsx-890112272\" id=\"login-modal\"></div></div><div class=\"jsx-560488783 cmrApertura-container\"><div class=\"jsx-373109670\"></div></div></div></div></div></section></div>]"
      ]
     },
     "execution_count": 3,
     "metadata": {},
     "output_type": "execute_result"
    }
   ],
   "source": [
    "url = 'https://sodimac.falabella.com.pe/sodimac-pe/product/113090635/'\n",
    "resp = requests.get(url)\n",
    "text = BeautifulSoup(resp.text, 'html.parser')\n",
    "data = text.find_all(class_=\"jsx-3641245301 pdp-container\")\n",
    "data"
   ]
  },
  {
   "cell_type": "code",
   "execution_count": 5,
   "id": "cc41f852-23c7-4df0-888d-7cb3d98d179d",
   "metadata": {},
   "outputs": [
    {
     "data": {
      "text/plain": [
       "bs4.element.ResultSet"
      ]
     },
     "execution_count": 5,
     "metadata": {},
     "output_type": "execute_result"
    }
   ],
   "source": [
    "type(data)"
   ]
  },
  {
   "cell_type": "code",
   "execution_count": null,
   "id": "04cd0779-77b7-4c38-9b94-fbfc1d303110",
   "metadata": {},
   "outputs": [],
   "source": []
  }
 ],
 "metadata": {
  "kernelspec": {
   "display_name": "Python 3 (ipykernel)",
   "language": "python",
   "name": "python3"
  },
  "language_info": {
   "codemirror_mode": {
    "name": "ipython",
    "version": 3
   },
   "file_extension": ".py",
   "mimetype": "text/x-python",
   "name": "python",
   "nbconvert_exporter": "python",
   "pygments_lexer": "ipython3",
   "version": "3.9.13"
  }
 },
 "nbformat": 4,
 "nbformat_minor": 5
}
